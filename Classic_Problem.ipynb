{
  "nbformat": 4,
  "nbformat_minor": 0,
  "metadata": {
    "colab": {
      "name": "Classic Problem.ipynb",
      "provenance": [],
      "collapsed_sections": [],
      "authorship_tag": "ABX9TyONYGyP09jcWR6tZr5CI449",
      "include_colab_link": true
    },
    "kernelspec": {
      "name": "python3",
      "display_name": "Python 3"
    },
    "language_info": {
      "name": "python"
    }
  },
  "cells": [
    {
      "cell_type": "markdown",
      "metadata": {
        "id": "view-in-github",
        "colab_type": "text"
      },
      "source": [
        "<a href=\"https://colab.research.google.com/github/Jocelyn-git/Python_ClassicProblem-and-DataAnalysis/blob/main/Classic_Problem.ipynb\" target=\"_parent\"><img src=\"https://colab.research.google.com/assets/colab-badge.svg\" alt=\"Open In Colab\"/></a>"
      ]
    },
    {
      "cell_type": "code",
      "source": [
        "'''\n",
        "1. 若使用者輸入 2 的倍數,則印出此數為 2 的倍數,若 3 的倍數,則印出此\n",
        "數為 3 的倍數,若是 2 也是 3 的倍數,則印出此數為 6 的倍數。\n",
        "'''\n",
        "while True:\n",
        "  try:\n",
        "    n = int(input(\"請輸入數字:\"))\n",
        "    if n%2 == 0 and n%3 == 0:\n",
        "      print(f\"{n}為 6 的倍數\")\n",
        "    elif n%2 == 0:\n",
        "      print(f\"{n}為 2 的倍數\")\n",
        "    elif n%3 == 0:\n",
        "        print(f\"{n}為 3 的倍數\")\n",
        "    else:\n",
        "      print(\"非2,3,6的倍數\")\n",
        "  except ValueError:\n",
        "    print(\"輸入格式錯誤，請輸入數字\")"
      ],
      "metadata": {
        "id": "BaIeIUpQTy2l"
      },
      "execution_count": null,
      "outputs": []
    },
    {
      "cell_type": "code",
      "source": [
        "'''\n",
        "2. 使用者輸入 n 秒 (n<86400) 請將它轉換成 x 時 x 分 x 秒。\n",
        "'''\n",
        "try:\n",
        "  sec = int(input(\"請輸入數字:(小於86400)\"))\n",
        "  if sec < 86400:\n",
        "    m,s = divmod(sec,60)\n",
        "    h,m = divmod(m,60)\n",
        "    print(\"{0}時{1}分{2}秒\".format(h, m, s))\n",
        "  else:\n",
        "    print(f\"{sec}數值已超出範圍，請重新輸入\")\n",
        "except ValueError:\n",
        "  print(\"格式錯誤，請輸入數字\")\n"
      ],
      "metadata": {
        "id": "6z2JBLlKUBBI"
      },
      "execution_count": null,
      "outputs": []
    },
    {
      "cell_type": "code",
      "source": [
        "'''\n",
        "3. 使用者輸入 n (n 為偶數),則印出 1 3 5 7 9 ... n-1,使用 while 迴圈。\n",
        "'''\n",
        "try:\n",
        "  n = int(input(\"請輸入偶數:\"))\n",
        "  if n%2 == 0:\n",
        "    i = 1\n",
        "    while i <= n:\n",
        "        print(i,end= (\" \"))\n",
        "        i += 2\n",
        "  else:\n",
        "    print(f\"{n}不是偶數，請重新輸入！\")\n",
        "except ValueError:\n",
        "  print(\"格式錯誤，請輸入數字\")"
      ],
      "metadata": {
        "id": "Jb8TMK4kUenO"
      },
      "execution_count": null,
      "outputs": []
    },
    {
      "cell_type": "code",
      "source": [
        "'''\n",
        "4.使用者輸入一段串列，並且輸入一個數字，將串列中大於等於此分數篩選出來並且存成另一個串列而將它印出\n",
        "'''\n",
        "num = input().split()\n",
        "print(num)\n",
        "sample = []\n",
        "for v in num:\n",
        "  sample.append(int(v))\n",
        "print(sample)\n",
        "\n",
        "target = int(input())\n",
        "ans = []\n",
        "for i in sample:\n",
        "  if i > target:\n",
        "    ans.append(int(i))\n",
        "  print(ans)"
      ],
      "metadata": {
        "id": "pArx90fQUkuB"
      },
      "execution_count": null,
      "outputs": []
    },
    {
      "cell_type": "code",
      "source": [
        "'''\n",
        "5.使用者輸入一串字串，將2的倍數相加得到答案\n",
        "'''\n",
        "s = input()\n",
        "g = s.split()\n",
        "ans = []\n",
        "for i in g:\n",
        "  if int(i) % 2 == 0:\n",
        "    ans.append(int(i))\n",
        "print(sum(ans))"
      ],
      "metadata": {
        "id": "ZOfwXVZ8VzRq"
      },
      "execution_count": null,
      "outputs": []
    },
    {
      "cell_type": "code",
      "source": [
        "'''\n",
        "6.使用 numpy package,使用者輸入 A 矩陣 (2,3) 以及 B 矩陣 (3,2),使用\n",
        "矩陣乘法算出最後的結果\n",
        "輸入:\n",
        "'''\n",
        "import numpy as np\n",
        "try:\n",
        "  a, m = map(int, input(\"請輸入A矩陣大小：\").split()) \n",
        "  A = np.array([input(\"請輸入A矩陣證數值：\").strip().split() for i in range(a)], int)\n",
        "  b, m = map(int, input(\"請輸入B矩陣大小：\").split()) \n",
        "  B = np.array([input(\"請輸入B矩陣證數值：\").strip().split() for i in range(b)], int)\n",
        "  print(f\"相乘結果為：{np.matmul(A,B)}\")\n",
        "except ValueError:\n",
        "  print(\"輸入錯誤！請依矩陣大小輸入\")"
      ],
      "metadata": {
        "id": "WUlFXis4WRX3"
      },
      "execution_count": null,
      "outputs": []
    },
    {
      "cell_type": "code",
      "source": [
        "'''\n",
        "7.星星系列，Input 數字印出不同形狀三角形\n",
        "'''\n",
        "\n",
        "num = int(input())\n",
        "for i in range(num):\n",
        "  for j in range(i+1):\n",
        "    print(\" \",end = \"\")\n",
        "  for k in range(num-i):\n",
        "    print(\"*\",end = \"\")\n",
        "  print()\n",
        "\n",
        "\n",
        "num = int(input())\n",
        "for i in range(num):\n",
        "  for j in range(num-i-1):\n",
        "    print(\" \",end = \"\")\n",
        "  for k in range(i+1):\n",
        "    print(\"*\",end = \"\")\n",
        "  print()"
      ],
      "metadata": {
        "id": "jbqOOzUWWmpd"
      },
      "execution_count": null,
      "outputs": []
    }
  ]
}